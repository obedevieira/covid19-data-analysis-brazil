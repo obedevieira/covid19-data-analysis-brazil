{
 "cells": [
  {
   "cell_type": "markdown",
   "metadata": {},
   "source": [
    "# 🧪 Análise Exploratória Profunda da COVID-19 no Brasil\n",
    "Este projeto realiza uma Análise Exploratória Profunda dos dados da COVID-19 no Brasil, com foco em estatísticas, tendências, visualizações interativas e insights.\n",
    "\n",
    "**Autor:** Obede Vieira dos Santos"
   ]
  },
  {
   "cell_type": "code",
   "execution_count": null,
   "metadata": {},
   "outputs": [],
   "source": [
    "#  Importando bibliotecas\n",
    "import pandas as pd\n",
    "import numpy as np\n",
    "import seaborn as sns\n",
    "import matplotlib.pyplot as plt\n",
    "import plotly.express as px\n",
    "import warnings\n",
    "warnings.filterwarnings('ignore')\n",
    "sns.set(style='whitegrid')\n",
    "plt.rcParams['figure.figsize'] = (14, 6)"
   ]
  },
  {
   "cell_type": "code",
   "execution_count": null,
   "metadata": {},
   "outputs": [],
   "source": [
    "#  Carregando os dados da fonte correta\n",
    "url = 'https://raw.githubusercontent.com/wcota/covid19br/master/cases-brazil-states.csv'\n",
    "df = pd.read_csv(url, parse_dates=['date'])\n",
    "df.head()"
   ]
  },
  {
   "cell_type": "code",
   "execution_count": null,
   "metadata": {},
   "outputs": [],
   "source": [
    "#  Limpeza dos dados\n",
    "df = df[(df['newCases'] >= 0) & (df['newDeaths'] >= 0)]\n",
    "df.dropna(inplace=True)\n",
    "df.reset_index(drop=True, inplace=True)"
   ]
  },
  {
   "cell_type": "markdown",
   "metadata": {},
   "source": [
    "##  Análise Descritiva"
   ]
  },
  {
   "cell_type": "code",
   "execution_count": null,
   "metadata": {},
   "outputs": [],
   "source": [
    "df.info()"
   ]
  },
  {
   "cell_type": "code",
   "execution_count": null,
   "metadata": {},
   "outputs": [],
   "source": [
    "df.describe()"
   ]
  },
  {
   "cell_type": "code",
   "execution_count": null,
   "metadata": {},
   "outputs": [],
   "source": [
    "sns.heatmap(df.isnull(), cbar=False, cmap='viridis')\n",
    "plt.title('Mapa de Calor dos Valores Ausentes')\n",
    "plt.show()"
   ]
  },
  {
   "cell_type": "code",
   "execution_count": null,
   "metadata": {},
   "outputs": [],
   "source": [
    "df[['newCases', 'newDeaths']].hist(bins=30, figsize=(12,5))\n",
    "plt.suptitle('Distribuição de Novos Casos e Mortes')\n",
    "plt.show()"
   ]
  },
  {
   "cell_type": "code",
   "execution_count": null,
   "metadata": {},
   "outputs": [],
   "source": [
    "print('Média de novos casos:', df['newCases'].mean())\n",
    "print('Mediana:', df['newCases'].median())\n",
    "print('Desvio padrão:', df['newCases'].std())"
   ]
  },
  {
   "cell_type": "code",
   "execution_count": null,
   "metadata": {},
   "outputs": [],
   "source": [
    "sns.boxplot(x=df['newCases'])\n",
    "plt.title('Boxplot de Novos Casos')\n",
    "plt.show()"
   ]
  },
  {
   "cell_type": "markdown",
   "metadata": {},
   "source": [
    "##  Análise Temporal Nacional"
   ]
  },
  {
   "cell_type": "code",
   "execution_count": null,
   "metadata": {},
   "outputs": [],
   "source": [
    "brasil = df.groupby('date')[['newCases', 'newDeaths']].sum().reset_index()\n",
    "sns.lineplot(data=brasil, x='date', y='newCases', label='Novos Casos')\n",
    "sns.lineplot(data=brasil, x='date', y='newDeaths', label='Novas Mortes')\n",
    "plt.title('Evolução de Casos e Mortes no Brasil')\n",
    "plt.show()"
   ]
  },
  {
   "cell_type": "markdown",
   "metadata": {},
   "source": [
    "##  Análise Temporal por Estado (Top 5)"
   ]
  },
  {
   "cell_type": "code",
   "execution_count": null,
   "metadata": {},
   "outputs": [],
   "source": [
    "top5 = df[df['date'] == df['date'].max()].nlargest(5, 'totalCases')['state']\n",
    "df_top = df[df['state'].isin(top5)]\n",
    "sns.lineplot(data=df_top, x='date', y='newCases', hue='state')\n",
    "plt.title('Evolução dos Novos Casos - Top 5 Estados')\n",
    "plt.show()"
   ]
  },
  {
   "cell_type": "markdown",
   "metadata": {},
   "source": [
    "## Correlação entre Variáveis"
   ]
  },
  {
   "cell_type": "code",
   "execution_count": null,
   "metadata": {},
   "outputs": [],
   "source": [
    "sns.heatmap(df.corr(numeric_only=True), annot=True, cmap='coolwarm')\n",
    "plt.title('Correlação entre Variáveis')\n",
    "plt.show()"
   ]
  },
  {
   "cell_type": "markdown",
   "metadata": {},
   "source": [
    "##  Visualização Interativa"
   ]
  },
  {
   "cell_type": "code",
   "execution_count": null,
   "metadata": {},
   "outputs": [],
   "source": [
    "latest = df[df['date'] == df['date'].max()]\n",
    "fig = px.scatter(latest, x='totalCases', y='deaths', color='state',\n",
    "                 size='population', hover_name='state',\n",
    "                 title='Casos x Mortes por Estado')\n",
    "fig.show()"
   ]
  },
  {
   "cell_type": "markdown",
   "id": "57417a35",
   "metadata": {},
   "source": [
    "##  Conclusão"
   ]
  },
  {
   "cell_type": "markdown",
   "metadata": {},
   "source": [
    "\n",
    "- A pandemia teve diferentes impactos nos estados brasileiros.\n",
    "- O volume de casos e mortes tem forte correlação.\n",
    "- Algumas regiões exigiram atenção especial pelas autoridades.\n",
    "- Esse projeto pode ser expandido com previsão de casos ou análises geoespaciais."
   ]
  }
 ],
 "metadata": {
  "kernelspec": {
   "display_name": "Python 3",
   "language": "python",
   "name": "python3"
  },
  "language_info": {
   "name": "python",
   "version": "3.10"
  }
 },
 "nbformat": 4,
 "nbformat_minor": 5
}
